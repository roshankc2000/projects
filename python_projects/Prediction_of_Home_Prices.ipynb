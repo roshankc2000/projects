{
 "cells": [
  {
   "cell_type": "markdown",
   "id": "de18416d-aeb9-4bf8-8cf6-b783b68f44b6",
   "metadata": {},
   "source": [
    "# Predict Home Prices with Python and Linear Regression\n",
    "To help us out, we will use a few data science libraries:\n",
    "<ul>\n",
    "    <li>Scikit-learn</li>\n",
    "    <li>Pandas</li>\n",
    "    <li>NumPy</li>\n",
    "    <li>Matplotlib</li>\n",
    "</ul>"
   ]
  },
  {
   "cell_type": "code",
   "execution_count": null,
   "id": "7cdbc999-58bf-4db3-891c-cd64e236b4cc",
   "metadata": {},
   "outputs": [],
   "source": []
  }
 ],
 "metadata": {
  "kernelspec": {
   "display_name": "Python 3 (ipykernel)",
   "language": "python",
   "name": "python3"
  },
  "language_info": {
   "codemirror_mode": {
    "name": "ipython",
    "version": 3
   },
   "file_extension": ".py",
   "mimetype": "text/x-python",
   "name": "python",
   "nbconvert_exporter": "python",
   "pygments_lexer": "ipython3",
   "version": "3.11.7"
  }
 },
 "nbformat": 4,
 "nbformat_minor": 5
}
